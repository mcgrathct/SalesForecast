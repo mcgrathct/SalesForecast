{
 "cells": [
  {
   "cell_type": "code",
   "execution_count": 1,
   "metadata": {},
   "outputs": [],
   "source": [
    "# Import necessary libraries\n",
    "\n",
    "# ! pip install fredapi\n",
    "# ! pip install urllib\n",
    "\n",
    "from fredapi import Fred  # fredapi\n",
    "import pandas as pd       # general use\n",
    "import urllib             # fredapi"
   ]
  },
  {
   "cell_type": "markdown",
   "metadata": {},
   "source": [
    "# FRED API"
   ]
  },
  {
   "cell_type": "code",
   "execution_count": 2,
   "metadata": {},
   "outputs": [],
   "source": [
    "# Store FRED API Key\n",
    "fred = Fred(api_key='ee9c4161f6205d40418acb6d19990502')"
   ]
  },
  {
   "cell_type": "markdown",
   "metadata": {},
   "source": [
    "### Real Sales"
   ]
  },
  {
   "cell_type": "code",
   "execution_count": 3,
   "metadata": {},
   "outputs": [],
   "source": [
    "df = fred.get_series_all_releases('RSXFS')"
   ]
  },
  {
   "cell_type": "code",
   "execution_count": 4,
   "metadata": {},
   "outputs": [],
   "source": [
    "df_rs = df[[\"date\", \"value\"]]  # Store only date and gdp value columns in new df\n",
    "df_rs = df_rs.groupby('date').nth(-1)  # Retain last record for each date\n",
    "df_rs.rename(columns={\"value\": \"real_sales\"}, inplace = True)  # Rename values column"
   ]
  },
  {
   "cell_type": "markdown",
   "metadata": {},
   "source": [
    "### Capacity Utilization: Total Index"
   ]
  },
  {
   "cell_type": "code",
   "execution_count": 5,
   "metadata": {},
   "outputs": [],
   "source": [
    "# Pull Capacity Utilization: Total Index Data\n",
    "df = fred.get_series_all_releases('TCU')"
   ]
  },
  {
   "cell_type": "code",
   "execution_count": 6,
   "metadata": {},
   "outputs": [],
   "source": [
    "df_tcu = df[[\"date\", \"value\"]]  # Store only date and gdp value columns in new df\n",
    "df_tcu = df_tcu.groupby('date').nth(-1)  # Retain last record for each date\n",
    "df_tcu.rename(columns={\"value\": \"tcu\"}, inplace = True)  # Rename values column"
   ]
  },
  {
   "cell_type": "markdown",
   "metadata": {},
   "source": [
    "### Industrial Production"
   ]
  },
  {
   "cell_type": "code",
   "execution_count": 7,
   "metadata": {},
   "outputs": [],
   "source": [
    "# Pull INDPRO\n",
    "df = fred.get_series_all_releases('INDPRO')"
   ]
  },
  {
   "cell_type": "code",
   "execution_count": 8,
   "metadata": {},
   "outputs": [],
   "source": [
    "df_ip = df[[\"date\", \"value\"]]  # Store only date and unemp value columns in new df\n",
    "df_ip = df_ip.groupby('date').nth(-1)  # Retain last record for each date\n",
    "df_ip.rename(columns={\"value\": \"indpro\"}, inplace = True)  # Rename values column"
   ]
  },
  {
   "cell_type": "markdown",
   "metadata": {},
   "source": [
    "### SAHM"
   ]
  },
  {
   "cell_type": "code",
   "execution_count": 9,
   "metadata": {},
   "outputs": [],
   "source": [
    "# Pull SAHM\n",
    "df = fred.get_series_all_releases('SAHMREALTIME')"
   ]
  },
  {
   "cell_type": "code",
   "execution_count": 10,
   "metadata": {},
   "outputs": [],
   "source": [
    "df_s = df[[\"date\", \"value\"]]  # Store only date and unemp value columns in new df\n",
    "df_s = df_s.groupby('date').nth(-1)  # Retain last record for each date\n",
    "df_s.rename(columns={\"value\": \"SAHM\"}, inplace = True)  # Rename values column"
   ]
  },
  {
   "cell_type": "markdown",
   "metadata": {},
   "source": [
    "## Combine FRED DFs"
   ]
  },
  {
   "cell_type": "code",
   "execution_count": 11,
   "metadata": {},
   "outputs": [],
   "source": [
    "df_hni = df_tcu.merge(df_ip, left_index=True, right_index=True)\n",
    "\n",
    "dfs = [df_rs, df_s]\n",
    "\n",
    "for i in dfs:\n",
    "   df_hni = df_hni.merge(i, left_index=True, right_index=True)"
   ]
  },
  {
   "cell_type": "markdown",
   "metadata": {},
   "source": [
    "# Import Provided Files"
   ]
  },
  {
   "cell_type": "markdown",
   "metadata": {},
   "source": [
    "### Sales"
   ]
  },
  {
   "cell_type": "code",
   "execution_count": 12,
   "metadata": {},
   "outputs": [],
   "source": [
    "# Import sales report from file\n",
    "df_sales = pd.read_csv(\"data/Sales Data.csv\", sep= \",\")\n",
    "df_sales.rename(columns={\"Unnamed: 0\": \"month\"}, inplace = True)  # Rename values column"
   ]
  },
  {
   "cell_type": "code",
   "execution_count": 13,
   "metadata": {},
   "outputs": [],
   "source": [
    "df_sales = pd.Series(df_sales.values.ravel('F'))\n",
    "\n",
    "df_sales = df_sales.drop([0,1,2,3,4,5,6,7,8,9,10,11])\n",
    "df_sales = df_sales.dropna()"
   ]
  },
  {
   "cell_type": "code",
   "execution_count": 14,
   "metadata": {},
   "outputs": [],
   "source": [
    "df_sales = df_sales.reset_index(drop=True)"
   ]
  },
  {
   "cell_type": "code",
   "execution_count": 15,
   "metadata": {},
   "outputs": [],
   "source": [
    "# Create a date column based on length of sales records\n",
    "x = len(df_sales)\n",
    "\n",
    "dt_s = pd.Series(\n",
    "    pd.date_range(\"2000-01-01\", periods=x, freq=\"M\")\n",
    ")\n",
    "\n",
    "dt_s = dt_s - pd.offsets.MonthBegin(1)"
   ]
  },
  {
   "cell_type": "code",
   "execution_count": 16,
   "metadata": {},
   "outputs": [],
   "source": [
    "# Create furniture industry sales df\n",
    "df_fis = pd.concat([dt_s, df_sales], axis=1)\n",
    "df_fis = df_fis.rename(columns={0: \"date\", 1: \"Sales\"})\n",
    "df_fis['date'] = df_fis['date'].astype('datetime64[ns]') \n",
    "df_fis = df_fis.set_index('date')  # set index to date col\n",
    "df_fis.Sales = df_fis.Sales.replace({'\\$':''}, regex = True)\n",
    "df_fis.Sales = df_fis.Sales.replace({'\\,':''}, regex = True)\n",
    "df_fis[\"Sales\"] = pd.to_numeric(df_fis[\"Sales\"]) # Convert value to a numeric column"
   ]
  },
  {
   "cell_type": "code",
   "execution_count": 17,
   "metadata": {},
   "outputs": [],
   "source": [
    "df_full = df_hni.merge(df_fis, left_index=True, right_index=True)"
   ]
  },
  {
   "cell_type": "code",
   "execution_count": 18,
   "metadata": {},
   "outputs": [],
   "source": [
    "df_full.reset_index(inplace=True)\n",
    "df_full.rename(columns={\"index\": \"date\"}, inplace = True)  # Rename values column"
   ]
  },
  {
   "cell_type": "code",
   "execution_count": 19,
   "metadata": {},
   "outputs": [],
   "source": [
    "df_full['lag12'] = df_full['Sales'].shift(12)\n",
    "df_full = df_full.dropna()\n",
    "df_full['lag12'] = df_full['lag12'].astype('int')"
   ]
  },
  {
   "cell_type": "markdown",
   "metadata": {},
   "source": [
    "### Create lag df"
   ]
  },
  {
   "cell_type": "code",
   "execution_count": 20,
   "metadata": {},
   "outputs": [],
   "source": [
    "df_lag = df_full[['Sales']].shift(-12)\n",
    "\n",
    "df_lag['date'] = pd.date_range(start='1/1/2003', periods=len(df_full), freq='MS') \n",
    "df_lag = df_lag.set_index('date')\n",
    "df_lag.rename(columns={'Sales': 'lag12'}, inplace=True)\n",
    "df_lag = df_lag.dropna()\n",
    "\n",
    "df_lag['lag12'] = df_lag['lag12'].astype('int')"
   ]
  },
  {
   "cell_type": "markdown",
   "metadata": {},
   "source": [
    "### Percent Change Column"
   ]
  },
  {
   "cell_type": "code",
   "execution_count": 21,
   "metadata": {},
   "outputs": [],
   "source": [
    "# Create column display monthly sales percent change from prior year value\n",
    "df_full['p_c'] = ((df_full['Sales'] - df_full['lag12']) / df_full['lag12']) * 100"
   ]
  },
  {
   "cell_type": "code",
   "execution_count": 22,
   "metadata": {},
   "outputs": [],
   "source": [
    "df2 = df_full.loc[:,['date', 'p_c']]\n",
    "df_full = df_full.drop(columns=['p_c'])"
   ]
  },
  {
   "cell_type": "markdown",
   "metadata": {},
   "source": [
    "## Create dataframe for months with known variables for unknown sales"
   ]
  },
  {
   "cell_type": "code",
   "execution_count": 23,
   "metadata": {},
   "outputs": [],
   "source": [
    "d1 = df_hni.index[-1]   # Store most recent date with complete FRED data\n",
    "d2 = df_fis.index[-1]   # Store most recent date with sales data"
   ]
  },
  {
   "cell_type": "code",
   "execution_count": 24,
   "metadata": {},
   "outputs": [],
   "source": [
    "m = round(abs((d1-d2).days)/30)   # Determine periods with FRED data & without sales"
   ]
  },
  {
   "cell_type": "code",
   "execution_count": 25,
   "metadata": {},
   "outputs": [],
   "source": [
    "df_pred = df_hni.tail(m)   # Store these rows in new df"
   ]
  },
  {
   "cell_type": "code",
   "execution_count": 26,
   "metadata": {},
   "outputs": [],
   "source": [
    "# Create tmp sales df for lagged sales\n",
    "df_f2 = df_fis\n",
    "df_f2['new_date'] = df_fis.index - pd.DateOffset(years=-1)\n",
    "df_f2.index = df_f2.new_date\n",
    "\n",
    "# Merge lagged sales with pred rows to provide complete records for modeling\n",
    "df_pred = df_pred.merge(df_f2, left_index=True, right_index=True)\n",
    "\n",
    "# Clean df pred\n",
    "df_pred.rename(columns={\"Sales\": \"lag12\"}, inplace = True)\n",
    "df_pred = df_pred.drop(columns=['new_date'])"
   ]
  },
  {
   "cell_type": "markdown",
   "metadata": {},
   "source": [
    "# Write to CSV"
   ]
  },
  {
   "cell_type": "code",
   "execution_count": 27,
   "metadata": {},
   "outputs": [],
   "source": [
    "# DF containing consolidated data\n",
    "\n",
    "df = df_full\n",
    "df.to_csv(\"data/HNI.csv\", sep=\",\", index=False, header= True)"
   ]
  },
  {
   "cell_type": "code",
   "execution_count": 28,
   "metadata": {},
   "outputs": [],
   "source": [
    "# DF containing the sales percent change data\n",
    "\n",
    "df = df2\n",
    "df.to_csv(\"data/HNI_pc.csv\", sep=\",\", index=True, header=True)"
   ]
  },
  {
   "cell_type": "code",
   "execution_count": 29,
   "metadata": {},
   "outputs": [],
   "source": [
    "# DF containing records with known input variables, but unknown sales\n",
    "\n",
    "df = df_pred\n",
    "df.to_csv(\"data/HNI_pred.csv\", sep=\",\", index=True, header=True)"
   ]
  },
  {
   "cell_type": "code",
   "execution_count": 30,
   "metadata": {},
   "outputs": [],
   "source": [
    "# DF containing consolidated FRED data\n",
    "\n",
    "df_hni = df_hni.dropna()\n",
    "df = df_hni\n",
    "df.to_csv(\"data/HNI_all.csv\", sep=\",\", index=True, header=True)"
   ]
  },
  {
   "cell_type": "code",
   "execution_count": 31,
   "metadata": {},
   "outputs": [],
   "source": [
    "# DF containing lagged sales information\n",
    "\n",
    "df = df_lag\n",
    "df.to_csv(\"data/HNI_lag.csv\", sep=\",\", index=True, header=True)"
   ]
  }
 ],
 "metadata": {
  "celltoolbar": "Raw Cell Format",
  "kernelspec": {
   "display_name": "Python 3",
   "language": "python",
   "name": "python3"
  },
  "language_info": {
   "codemirror_mode": {
    "name": "ipython",
    "version": 3
   },
   "file_extension": ".py",
   "mimetype": "text/x-python",
   "name": "python",
   "nbconvert_exporter": "python",
   "pygments_lexer": "ipython3",
   "version": "3.7.4"
  }
 },
 "nbformat": 4,
 "nbformat_minor": 2
}
